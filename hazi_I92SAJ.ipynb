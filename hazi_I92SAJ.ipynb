{
    "metadata": {
        "kernelspec": {
            "name": "SQL",
            "display_name": "SQL",
            "language": "sql"
        },
        "language_info": {
            "name": "sql",
            "version": ""
        }
    },
    "nbformat_minor": 2,
    "nbformat": 4,
    "cells": [
        {
            "cell_type": "markdown",
            "source": [
                "# **oradij**"
            ],
            "metadata": {
                "azdata_cell_guid": "e6fdb7de-da61-40ce-9636-512ae72391af"
            },
            "attachments": {}
        },
        {
            "cell_type": "markdown",
            "source": [
                "## **3 leggyakoribb óradíj előfordulásainak száma**"
            ],
            "metadata": {
                "azdata_cell_guid": "d7b18ae0-073d-449d-afc5-1a8b19696a7c"
            },
            "attachments": {}
        },
        {
            "cell_type": "code",
            "source": [
                "SELECT TOP 3\n",
                "    oradij AS 'Óradíj', \n",
                "    COUNT(munkaId) AS 'Előfordulás'\n",
                "FROM munka\n",
                "WHERE oradij IS NOT null\n",
                "GROUP BY oradij\n",
                "ORDER BY COUNT(munkaId) desc"
            ],
            "metadata": {
                "azdata_cell_guid": "6f0eb2b6-2431-4f0c-91a8-358a211a2e8a",
                "language": "sql"
            },
            "outputs": [
                {
                    "output_type": "display_data",
                    "data": {
                        "text/html": "(3 rows affected)"
                    },
                    "metadata": {}
                },
                {
                    "output_type": "display_data",
                    "data": {
                        "text/html": "Total execution time: 00:00:00.021"
                    },
                    "metadata": {}
                },
                {
                    "output_type": "execute_result",
                    "metadata": {
                        "azdata_chartOptions": {
                            "type": "bar",
                            "dataDirection": "horizontal",
                            "columnsAsLabels": true,
                            "labelFirstColumn": true,
                            "legendPosition": "top"
                        }
                    },
                    "execution_count": 14,
                    "data": {
                        "application/vnd.dataresource+json": {
                            "schema": {
                                "fields": [
                                    {
                                        "name": "Óradíj"
                                    },
                                    {
                                        "name": "Előfordulás"
                                    }
                                ]
                            },
                            "data": [
                                {
                                    "Óradíj": "300",
                                    "Előfordulás": "14"
                                },
                                {
                                    "Óradíj": "400",
                                    "Előfordulás": "12"
                                },
                                {
                                    "Óradíj": "200",
                                    "Előfordulás": "4"
                                }
                            ]
                        },
                        "text/html": [
                            "<table>",
                            "<tr><th>Óradíj</th><th>Előfordulás</th></tr>",
                            "<tr><td>300</td><td>14</td></tr>",
                            "<tr><td>400</td><td>12</td></tr>",
                            "<tr><td>200</td><td>4</td></tr>",
                            "</table>"
                        ]
                    }
                }
            ],
            "execution_count": 14
        },
        {
            "cell_type": "markdown",
            "source": [
                "## **Legkisebb érték, legnagyobb érték, átlag**"
            ],
            "metadata": {
                "azdata_cell_guid": "0420ee2f-06ac-4163-9814-f8052b1c5852"
            },
            "attachments": {}
        },
        {
            "cell_type": "code",
            "source": [
                "SELECT MIN(oradij) AS value_min, \n",
                "       MAX(oradij) AS value_max, \n",
                "       AVG(oradij) AS value_avg\n",
                "FROM munka\n",
                "WHERE oradij IS NOT NULL"
            ],
            "metadata": {
                "azdata_cell_guid": "cd415f20-9ca2-4628-b094-9684b4cd5a97",
                "language": "sql"
            },
            "outputs": [
                {
                    "output_type": "display_data",
                    "data": {
                        "text/html": "(1 row affected)"
                    },
                    "metadata": {}
                },
                {
                    "output_type": "display_data",
                    "data": {
                        "text/html": "Total execution time: 00:00:00.018"
                    },
                    "metadata": {}
                },
                {
                    "output_type": "execute_result",
                    "metadata": {},
                    "execution_count": 13,
                    "data": {
                        "application/vnd.dataresource+json": {
                            "schema": {
                                "fields": [
                                    {
                                        "name": "value_min"
                                    },
                                    {
                                        "name": "value_max"
                                    },
                                    {
                                        "name": "value_avg"
                                    }
                                ]
                            },
                            "data": [
                                {
                                    "value_min": "200",
                                    "value_max": "500",
                                    "value_avg": "346"
                                }
                            ]
                        },
                        "text/html": [
                            "<table>",
                            "<tr><th>value_min</th><th>value_max</th><th>value_avg</th></tr>",
                            "<tr><td>200</td><td>500</td><td>346</td></tr>",
                            "</table>"
                        ]
                    }
                }
            ],
            "execution_count": 13
        },
        {
            "cell_type": "markdown",
            "source": [
                "## **Milyen óradíjak fordulnak elő?**"
            ],
            "metadata": {
                "azdata_cell_guid": "e8cb307d-1af3-45cc-849f-44c05c34b51a"
            },
            "attachments": {}
        },
        {
            "cell_type": "code",
            "source": [
                "SELECT oradij\n",
                "FROM munka\n",
                "GROUP BY oradij"
            ],
            "metadata": {
                "azdata_cell_guid": "a87252fb-8852-4039-b885-4ca9698ddfb1",
                "language": "sql"
            },
            "outputs": [
{
    "output_type": "display_data",
    "data": {
        "text/html": "(7 rows affected)"
    },
    "metadata": {}
}, {
    "output_type": "display_data",
    "data": {
        "text/html": "Total execution time: 00:00:00.086"
    },
    "metadata": {}
}, {
    "output_type": "execute_result",
    "metadata": {},
    "execution_count": 17,
    "data": {
        "application/vnd.dataresource+json": {
            "schema": {
                "fields": [
                    {
                        "name": "oradij"
                    }
                ]
            },
            "data": [
                {
                    "oradij": "200"
                },
                {
                    "oradij": "250"
                },
                {
                    "oradij": "300"
                },
                {
                    "oradij": "350"
                },
                {
                    "oradij": "400"
                },
                {
                    "oradij": "450"
                },
                {
                    "oradij": "500"
                }
            ]
        },
        "text/html": [
            "<table>",
            "<tr><th>oradij</th></tr>",
            "<tr><td>200</td></tr>",
            "<tr><td>250</td></tr>",
            "<tr><td>300</td></tr>",
            "<tr><td>350</td></tr>",
            "<tr><td>400</td></tr>",
            "<tr><td>450</td></tr>",
            "<tr><td>500</td></tr>",
            "</table>"
        ]
    }
}
],
            "execution_count": 17
        }
    ]
}