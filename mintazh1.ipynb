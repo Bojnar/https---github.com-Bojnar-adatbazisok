{
    "metadata": {
        "kernelspec": {
            "name": "SQL",
            "display_name": "SQL",
            "language": "sql"
        },
        "language_info": {
            "name": "sql",
            "version": ""
        }
    },
    "nbformat_minor": 2,
    "nbformat": 4,
    "cells": [
        {
            "cell_type": "code",
            "source": [
                ""
            ],
            "metadata": {
                "azdata_cell_guid": "f7729fe6-1821-4b17-ba05-a7e40daf7b7e",
                "language": "sql"
            },
            "outputs": [],
            "execution_count": null
        }
    ]
}