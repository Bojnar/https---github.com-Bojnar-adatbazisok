{
    "metadata": {
        "kernelspec": {
            "name": "SQL",
            "display_name": "SQL",
            "language": "sql"
        },
        "language_info": {
            "name": "sql",
            "version": ""
        }
    },
    "nbformat_minor": 2,
    "nbformat": 4,
    "cells": [
        {
            "cell_type": "code",
            "source": [
                "SELECT TOP 3\n",
                "    oradij AS 'Óradíj', \n",
                "    COUNT(munkaId) AS 'Előfordulás'\n",
                "from munka\n",
                "WHERE oradij IS NOT null\n",
                "GROUP BY oradij\n",
                "ORDER BY COUNT(munkaId) desc"
            ],
            "metadata": {
                "azdata_cell_guid": "6f0eb2b6-2431-4f0c-91a8-358a211a2e8a",
                "language": "sql"
            },
            "outputs": [
                {
                    "output_type": "display_data",
                    "data": {
                        "text/html": "(3 rows affected)"
                    },
                    "metadata": {}
                },
                {
                    "output_type": "display_data",
                    "data": {
                        "text/html": "Total execution time: 00:00:00.106"
                    },
                    "metadata": {}
                },
                {
                    "output_type": "execute_result",
                    "metadata": {
                        "azdata_chartOptions": {
                            "type": "bar",
                            "dataDirection": "horizontal",
                            "columnsAsLabels": true,
                            "labelFirstColumn": true,
                            "legendPosition": "top"
                        }
                    },
                    "execution_count": 12,
                    "data": {
                        "application/vnd.dataresource+json": {
                            "schema": {
                                "fields": [
                                    {
                                        "name": "Óradíj"
                                    },
                                    {
                                        "name": "Előfordulás"
                                    }
                                ]
                            },
                            "data": [
                                {
                                    "Óradíj": "300",
                                    "Előfordulás": "14"
                                },
                                {
                                    "Óradíj": "400",
                                    "Előfordulás": "12"
                                },
                                {
                                    "Óradíj": "200",
                                    "Előfordulás": "4"
                                }
                            ]
                        },
                        "text/html": [
                            "<table>",
                            "<tr><th>Óradíj</th><th>Előfordulás</th></tr>",
                            "<tr><td>300</td><td>14</td></tr>",
                            "<tr><td>400</td><td>12</td></tr>",
                            "<tr><td>200</td><td>4</td></tr>",
                            "</table>"
                        ]
                    }
                }
            ],
            "execution_count": 12
        },
        {
            "cell_type": "code",
            "source": [
                ""
            ],
            "metadata": {
                "azdata_cell_guid": "cd415f20-9ca2-4628-b094-9684b4cd5a97",
                "language": "sql"
            },
            "outputs": [],
            "execution_count": null
        }
    ]
}