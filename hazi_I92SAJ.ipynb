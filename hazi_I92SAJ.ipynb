{
    "metadata": {
        "kernelspec": {
            "name": "SQL",
            "display_name": "SQL",
            "language": "sql"
        },
        "language_info": {
            "name": "sql",
            "version": ""
        }
    },
    "nbformat_minor": 2,
    "nbformat": 4,
    "cells": [
        {
            "cell_type": "code",
            "source": [
                "SELECT"
            ],
            "metadata": {
                "azdata_cell_guid": "6f0eb2b6-2431-4f0c-91a8-358a211a2e8a",
                "language": "sql"
            },
            "outputs": [],
            "execution_count": null
        }
    ]
}