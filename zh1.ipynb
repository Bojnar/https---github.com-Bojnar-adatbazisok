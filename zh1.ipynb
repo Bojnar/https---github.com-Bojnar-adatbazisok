{
    "metadata": {
        "kernelspec": {
            "name": "SQL",
            "display_name": "SQL",
            "language": "sql"
        },
        "language_info": {
            "name": "sql",
            "version": ""
        }
    },
    "nbformat_minor": 2,
    "nbformat": 4,
    "cells": [
        {
            "cell_type": "code",
            "source": [
                ""
            ],
            "metadata": {
                "azdata_cell_guid": "e3ca277d-23bc-4b63-8cca-cfa964bfee78",
                "language": "sql"
            },
            "outputs": [],
            "execution_count": null
        }
    ]
}