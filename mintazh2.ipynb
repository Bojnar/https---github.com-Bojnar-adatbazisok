{
    "metadata": {
        "kernelspec": {
            "name": "SQL",
            "display_name": "SQL",
            "language": "sql"
        },
        "language_info": {
            "name": "sql",
            "version": ""
        }
    },
    "nbformat_minor": 2,
    "nbformat": 4,
    "cells": [
        {
            "cell_type": "code",
            "source": [
                "SELECT IIF(v.USERNEV IS NULL, 'Összeg', v.USERNEV),\n",
                "       COUNT(sz.SZALLAS_FK) AS 'foglalasok_szama'\n",
                "FROM Vendeg v LEFT JOIN Foglalas f ON v.USERNEV = f.UGYFEL_FK\n",
                "     LEFT JOIN Szoba sz ON f.SZOBA_FK = sz.SZOBA_ID\n",
                "GROUP BY ROLLUP(v.USERNEV)"
            ],
            "metadata": {
                "azdata_cell_guid": "1e2334b7-4830-47ef-900c-49303c76e6fe",
                "language": "sql"
            },
            "outputs": [
                {
                    "output_type": "error",
                    "evalue": "Query failed: Invalid argument",
                    "ename": "",
                    "traceback": []
                },
                {
                    "output_type": "display_data",
                    "data": {
                        "text/html": "Total execution time: 00:00:00.001"
                    },
                    "metadata": {}
                }
            ],
            "execution_count": 14
        }
    ]
}