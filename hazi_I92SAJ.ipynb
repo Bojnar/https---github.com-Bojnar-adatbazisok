{
    "metadata": {
        "kernelspec": {
            "name": "SQL",
            "display_name": "SQL",
            "language": "sql"
        },
        "language_info": {
            "name": "sql",
            "version": ""
        }
    },
    "nbformat_minor": 2,
    "nbformat": 4,
    "cells": [
        {
            "cell_type": "markdown",
            "source": [
                "# **oradij**"
            ],
            "metadata": {
                "azdata_cell_guid": "e6fdb7de-da61-40ce-9636-512ae72391af"
            },
            "attachments": {}
        },
        {
            "cell_type": "markdown",
            "source": [
                "## **1\\. 3 leggyakoribb óradíj előfordulásainak száma**"
            ],
            "metadata": {
                "azdata_cell_guid": "d7b18ae0-073d-449d-afc5-1a8b19696a7c"
            },
            "attachments": {}
        },
        {
            "cell_type": "code",
            "source": [
                "SELECT TOP 3\n",
                "    oradij AS 'Óradíj', \n",
                "    COUNT(munkaId) AS 'Előfordulás'\n",
                "FROM munka\n",
                "WHERE oradij IS NOT null\n",
                "GROUP BY oradij\n",
                "ORDER BY COUNT(munkaId) desc"
            ],
            "metadata": {
                "azdata_cell_guid": "6f0eb2b6-2431-4f0c-91a8-358a211a2e8a",
                "language": "sql"
            },
            "outputs": [
                {
                    "output_type": "display_data",
                    "data": {
                        "text/html": "(3 rows affected)"
                    },
                    "metadata": {}
                },
                {
                    "output_type": "display_data",
                    "data": {
                        "text/html": "Total execution time: 00:00:00.021"
                    },
                    "metadata": {}
                },
                {
                    "output_type": "execute_result",
                    "metadata": {},
                    "execution_count": 14,
                    "data": {
                        "application/vnd.dataresource+json": {
                            "schema": {
                                "fields": [
                                    {
                                        "name": "Óradíj"
                                    },
                                    {
                                        "name": "Előfordulás"
                                    }
                                ]
                            },
                            "data": [
                                {
                                    "Óradíj": "300",
                                    "Előfordulás": "14"
                                },
                                {
                                    "Óradíj": "400",
                                    "Előfordulás": "12"
                                },
                                {
                                    "Óradíj": "200",
                                    "Előfordulás": "4"
                                }
                            ]
                        },
                        "text/html": [
                            "<table>",
                            "<tr><th>Óradíj</th><th>Előfordulás</th></tr>",
                            "<tr><td>300</td><td>14</td></tr>",
                            "<tr><td>400</td><td>12</td></tr>",
                            "<tr><td>200</td><td>4</td></tr>",
                            "</table>"
                        ]
                    }
                }
            ],
            "execution_count": 14
        },
        {
            "cell_type": "markdown",
            "source": [
                "## **2\\. Legkisebb érték, legnagyobb érték, átlag**"
            ],
            "metadata": {
                "azdata_cell_guid": "0420ee2f-06ac-4163-9814-f8052b1c5852"
            },
            "attachments": {}
        },
        {
            "cell_type": "code",
            "source": [
                "SELECT MIN(oradij) AS 'Minimum', \n",
                "       MAX(oradij) AS 'Maximum', \n",
                "       AVG(oradij) AS 'Átlag'\n",
                "FROM munka\n",
                "WHERE oradij IS NOT NULL"
            ],
            "metadata": {
                "azdata_cell_guid": "cd415f20-9ca2-4628-b094-9684b4cd5a97",
                "language": "sql"
            },
            "outputs": [
                {
                    "output_type": "display_data",
                    "data": {
                        "text/html": "(1 row affected)"
                    },
                    "metadata": {}
                },
                {
                    "output_type": "display_data",
                    "data": {
                        "text/html": "Total execution time: 00:00:00.105"
                    },
                    "metadata": {}
                },
                {
                    "output_type": "execute_result",
                    "metadata": {},
                    "execution_count": 19,
                    "data": {
                        "application/vnd.dataresource+json": {
                            "schema": {
                                "fields": [
                                    {
                                        "name": "Minimum"
                                    },
                                    {
                                        "name": "Maximum"
                                    },
                                    {
                                        "name": "Átlag"
                                    }
                                ]
                            },
                            "data": [
                                {
                                    "Minimum": "200",
                                    "Maximum": "500",
                                    "Átlag": "346"
                                }
                            ]
                        },
                        "text/html": [
                            "<table>",
                            "<tr><th>Minimum</th><th>Maximum</th><th>Átlag</th></tr>",
                            "<tr><td>200</td><td>500</td><td>346</td></tr>",
                            "</table>"
                        ]
                    }
                }
            ],
            "execution_count": 19
        },
        {
            "cell_type": "markdown",
            "source": [
                "## **3\\. Milyen óradíjak fordulnak elő?**"
            ],
            "metadata": {
                "azdata_cell_guid": "e8cb307d-1af3-45cc-849f-44c05c34b51a"
            },
            "attachments": {}
        },
        {
            "cell_type": "code",
            "source": [
                "SELECT oradij AS 'Óradíjak'\n",
                "FROM munka\n",
                "GROUP BY oradij"
            ],
            "metadata": {
                "azdata_cell_guid": "a87252fb-8852-4039-b885-4ca9698ddfb1",
                "language": "sql"
            },
            "outputs": [
                {
                    "output_type": "display_data",
                    "data": {
                        "text/html": "(7 rows affected)"
                    },
                    "metadata": {}
                },
                {
                    "output_type": "display_data",
                    "data": {
                        "text/html": "Total execution time: 00:00:00.037"
                    },
                    "metadata": {}
                },
                {
                    "output_type": "execute_result",
                    "metadata": {},
                    "execution_count": 20,
                    "data": {
                        "application/vnd.dataresource+json": {
                            "schema": {
                                "fields": [
                                    {
                                        "name": "Óradíjak"
                                    }
                                ]
                            },
                            "data": [
                                {
                                    "Óradíjak": "200"
                                },
                                {
                                    "Óradíjak": "250"
                                },
                                {
                                    "Óradíjak": "300"
                                },
                                {
                                    "Óradíjak": "350"
                                },
                                {
                                    "Óradíjak": "400"
                                },
                                {
                                    "Óradíjak": "450"
                                },
                                {
                                    "Óradíjak": "500"
                                }
                            ]
                        },
                        "text/html": [
                            "<table>",
                            "<tr><th>Óradíjak</th></tr>",
                            "<tr><td>200</td></tr>",
                            "<tr><td>250</td></tr>",
                            "<tr><td>300</td></tr>",
                            "<tr><td>350</td></tr>",
                            "<tr><td>400</td></tr>",
                            "<tr><td>450</td></tr>",
                            "<tr><td>500</td></tr>",
                            "</table>"
                        ]
                    }
                }
            ],
            "execution_count": 20
        },
        {
            "cell_type": "markdown",
            "source": [
                "# **allas**"
            ],
            "metadata": {
                "azdata_cell_guid": "773cb915-9c04-4ef4-a60f-c5f8e98725eb"
            },
            "attachments": {}
        },
        {
            "cell_type": "markdown",
            "source": [
                "## **1\\. Leghosszabb, legrövidebb, átlagos hossz**"
            ],
            "metadata": {
                "azdata_cell_guid": "4103c60f-ab00-4286-9935-892abd81d72a"
            },
            "attachments": {}
        },
        {
            "cell_type": "code",
            "source": [
                "SELECT MIN(LEN(allas)) AS 'Legrövidebb állásnév', \n",
                "       MAX(LEN(allas)) AS 'Leghosszabb állásnév', \n",
                "       AVG(LEN(allas)) AS 'Átlag állásnév hossz'\n",
                "FROM munka\n",
                "WHERE LEN(allas) IS NOT NULL"
            ],
            "metadata": {
                "azdata_cell_guid": "6c300101-777d-4ec9-b08a-b0ba22773df1",
                "language": "sql"
            },
            "outputs": [
                {
                    "output_type": "display_data",
                    "data": {
                        "text/html": "(1 row affected)"
                    },
                    "metadata": {}
                },
                {
                    "output_type": "display_data",
                    "data": {
                        "text/html": "Total execution time: 00:00:00.199"
                    },
                    "metadata": {}
                },
                {
                    "output_type": "execute_result",
                    "metadata": {
                        "azdata_chartOptions": {
                            "type": "bar",
                            "dataDirection": "horizontal",
                            "columnsAsLabels": true,
                            "labelFirstColumn": false,
                            "legendPosition": "top"
                        }
                    },
                    "execution_count": 22,
                    "data": {
                        "application/vnd.dataresource+json": {
                            "schema": {
                                "fields": [
                                    {
                                        "name": "Legrövidebb állásnév"
                                    },
                                    {
                                        "name": "Leghosszabb állásnév"
                                    },
                                    {
                                        "name": "Átlag állásnév hossz"
                                    }
                                ]
                            },
                            "data": [
                                {
                                    "Legrövidebb állásnév": "5",
                                    "Leghosszabb állásnév": "26",
                                    "Átlag állásnév hossz": "7"
                                }
                            ]
                        },
                        "text/html": [
                            "<table>",
                            "<tr><th>Legrövidebb állásnév</th><th>Leghosszabb állásnév</th><th>Átlag állásnév hossz</th></tr>",
                            "<tr><td>5</td><td>26</td><td>7</td></tr>",
                            "</table>"
                        ]
                    }
                }
            ],
            "execution_count": 22
        },
        {
            "cell_type": "markdown",
            "source": [
                "## **2\\. Állásnevek száma hossz alapján csoportosítva**"
            ],
            "metadata": {
                "azdata_cell_guid": "e5021f89-b3fc-461c-9dec-daaf45b71d4b"
            },
            "attachments": {}
        },
        {
            "cell_type": "code",
            "source": [
                "SELECT LEN(allas) AS 'Állásnév hossza',\n",
                "       count(*) AS 'DB'\n",
                "FROM munka\n",
                "GROUP BY LEN(allas)\n",
                "ORDER BY 1"
            ],
            "metadata": {
                "azdata_cell_guid": "61b7b59d-2c97-400b-8d8d-e5fb7f3f84c1",
                "language": "sql"
            },
            "outputs": [
                {
                    "output_type": "display_data",
                    "data": {
                        "text/html": "(5 rows affected)"
                    },
                    "metadata": {}
                },
                {
                    "output_type": "display_data",
                    "data": {
                        "text/html": "Total execution time: 00:00:00.022"
                    },
                    "metadata": {}
                },
                {
                    "output_type": "execute_result",
                    "metadata": {
                        "azdata_chartOptions": {
                            "type": "bar",
                            "dataDirection": "horizontal",
                            "columnsAsLabels": true,
                            "labelFirstColumn": true,
                            "legendPosition": "bottom",
                            "yAxisLabel": "DB",
                            "xAxisLabel": "Hossz"
                        }
                    },
                    "execution_count": 23,
                    "data": {
                        "application/vnd.dataresource+json": {
                            "schema": {
                                "fields": [
                                    {
                                        "name": "Állásnév hossza"
                                    },
                                    {
                                        "name": "DB"
                                    }
                                ]
                            },
                            "data": [
                                {
                                    "Állásnév hossza": "5",
                                    "DB": "13"
                                },
                                {
                                    "Állásnév hossza": "6",
                                    "DB": "2"
                                },
                                {
                                    "Állásnév hossza": "8",
                                    "DB": "17"
                                },
                                {
                                    "Állásnév hossza": "9",
                                    "DB": "8"
                                },
                                {
                                    "Állásnév hossza": "26",
                                    "DB": "1"
                                }
                            ]
                        },
                        "text/html": [
                            "<table>",
                            "<tr><th>Állásnév hossza</th><th>DB</th></tr>",
                            "<tr><td>5</td><td>13</td></tr>",
                            "<tr><td>6</td><td>2</td></tr>",
                            "<tr><td>8</td><td>17</td></tr>",
                            "<tr><td>9</td><td>8</td></tr>",
                            "<tr><td>26</td><td>1</td></tr>",
                            "</table>"
                        ]
                    }
                }
            ],
            "execution_count": 23
        },
        {
            "cell_type": "markdown",
            "source": [
                "## **3\\. 10 Leggyakoribb állás**"
            ],
            "metadata": {
                "azdata_cell_guid": "2e03c407-e0a3-493e-9b6c-c13a425d98ef"
            },
            "attachments": {}
        },
        {
            "cell_type": "code",
            "source": [
                "SELECT TOP 10\n",
                "    allas AS 'Állás', \n",
                "    COUNT(*) AS 'DB'\n",
                "FROM munka\n",
                "WHERE allas IS NOT null\n",
                "GROUP BY allas\n",
                "ORDER BY COUNT(*) desc"
            ],
            "metadata": {
                "azdata_cell_guid": "3f9239a3-ac24-416c-ac56-08991537063f",
                "language": "sql"
            },
            "outputs": [
                {
                    "output_type": "display_data",
                    "data": {
                        "text/html": "(9 rows affected)"
                    },
                    "metadata": {}
                },
                {
                    "output_type": "display_data",
                    "data": {
                        "text/html": "Total execution time: 00:00:00.118"
                    },
                    "metadata": {}
                },
                {
                    "output_type": "execute_result",
                    "metadata": {
                        "azdata_chartOptions": {
                            "type": "bar",
                            "dataDirection": "horizontal",
                            "columnsAsLabels": true,
                            "labelFirstColumn": true,
                            "legendPosition": "top",
                            "dataType": "number"
                        }
                    },
                    "execution_count": 24,
                    "data": {
                        "application/vnd.dataresource+json": {
                            "schema": {
                                "fields": [
                                    {
                                        "name": "Állás"
                                    },
                                    {
                                        "name": "DB"
                                    }
                                ]
                            },
                            "data": [
                                {
                                    "Állás": "eladó",
                                    "DB": "12"
                                },
                                {
                                    "Állás": "takarító",
                                    "DB": "9"
                                },
                                {
                                    "Állás": "ruhatáros",
                                    "DB": "6"
                                },
                                {
                                    "Állás": "kisegítő",
                                    "DB": "4"
                                },
                                {
                                    "Állás": "raktáros",
                                    "DB": "4"
                                },
                                {
                                    "Állás": "pincér",
                                    "DB": "2"
                                },
                                {
                                    "Állás": "kézbesítő",
                                    "DB": "2"
                                },
                                {
                                    "Állás": "ügyfélszolgálati munkatárs",
                                    "DB": "1"
                                },
                                {
                                    "Állás": "futár",
                                    "DB": "1"
                                }
                            ]
                        },
                        "text/html": [
                            "<table>",
                            "<tr><th>Állás</th><th>DB</th></tr>",
                            "<tr><td>eladó</td><td>12</td></tr>",
                            "<tr><td>takarító</td><td>9</td></tr>",
                            "<tr><td>ruhatáros</td><td>6</td></tr>",
                            "<tr><td>kisegítő</td><td>4</td></tr>",
                            "<tr><td>raktáros</td><td>4</td></tr>",
                            "<tr><td>pincér</td><td>2</td></tr>",
                            "<tr><td>kézbesítő</td><td>2</td></tr>",
                            "<tr><td>ügyfélszolgálati munkatárs</td><td>1</td></tr>",
                            "<tr><td>futár</td><td>1</td></tr>",
                            "</table>"
                        ]
                    }
                }
            ],
            "execution_count": 24
        }
    ]
}