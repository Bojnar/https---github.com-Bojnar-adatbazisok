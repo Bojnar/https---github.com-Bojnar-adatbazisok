{
    "metadata": {
        "kernelspec": {
            "name": "SQL",
            "display_name": "SQL",
            "language": "sql"
        },
        "language_info": {
            "name": "sql",
            "version": ""
        }
    },
    "nbformat_minor": 2,
    "nbformat": 4,
    "cells": [
        {
            "cell_type": "code",
            "source": [
                "SELECT *,\r\n",
                "       IIF(MONTH(METTOL) BETWEEN 6 AND 8, 'Igen', 'Nem') \r\n",
                "FROM Foglalas\r\n",
                "WHERE UGYFEL_FK = 'laszlo2' AND GYERMEK_SZAM = 0"
            ],
            "metadata": {
                "azdata_cell_guid": "f7729fe6-1821-4b17-ba05-a7e40daf7b7e",
                "language": "sql"
            },
            "outputs": [
                {
                    "output_type": "display_data",
                    "data": {
                        "text/html": "(1 row affected)"
                    },
                    "metadata": {}
                },
                {
                    "output_type": "display_data",
                    "data": {
                        "text/html": "Total execution time: 00:00:00.003"
                    },
                    "metadata": {}
                },
                {
                    "output_type": "execute_result",
                    "metadata": {},
                    "execution_count": 12,
                    "data": {
                        "application/vnd.dataresource+json": {
                            "schema": {
                                "fields": [
                                    {
                                        "name": "FOGLALAS_PK"
                                    },
                                    {
                                        "name": "UGYFEL_FK"
                                    },
                                    {
                                        "name": "SZOBA_FK"
                                    },
                                    {
                                        "name": "METTOL"
                                    },
                                    {
                                        "name": "MEDDIG"
                                    },
                                    {
                                        "name": "FELNOTT_SZAM"
                                    },
                                    {
                                        "name": "GYERMEK_SZAM"
                                    },
                                    {
                                        "name": "(No column name)"
                                    }
                                ]
                            },
                            "data": [
                                {
                                    "FOGLALAS_PK": "561",
                                    "UGYFEL_FK": "laszlo2",
                                    "SZOBA_FK": "42",
                                    "METTOL": "2016-04-06",
                                    "MEDDIG": "2016-04-10",
                                    "FELNOTT_SZAM": "2",
                                    "GYERMEK_SZAM": "0",
                                    "(No column name)": "Nem"
                                }
                            ]
                        },
                        "text/html": [
                            "<table>",
                            "<tr><th>FOGLALAS_PK</th><th>UGYFEL_FK</th><th>SZOBA_FK</th><th>METTOL</th><th>MEDDIG</th><th>FELNOTT_SZAM</th><th>GYERMEK_SZAM</th><th>(No column name)</th></tr>",
                            "<tr><td>561</td><td>laszlo2</td><td>42</td><td>2016-04-06</td><td>2016-04-10</td><td>2</td><td>0</td><td>Nem</td></tr>",
                            "</table>"
                        ]
                    }
                }
            ],
            "execution_count": 12
        },
        {
            "cell_type": "code",
            "source": [
                "SELECT szh.TIPUS,\r\n",
                "       YEAR(f.METTOL) AS 'Év',\r\n",
                "       MONTH(f.METTOL) AS 'Hónap',\r\n",
                "       COUNT(f.FOGLALAS_PK) AS 'Foglalások száma'\r\n",
                "\r\n",
                " FROM Foglalas f JOIN Szoba sz ON f.SZOBA_FK = sz.SZOBA_ID \r\n",
                "                 JOIN Szallashely szh ON sz.SZALLAS_FK = szh.SZALLAS_ID\r\n",
                "WHERE DATEDIFF(DAY, f.METTOL, f.MEDDIG) >=5\r\n",
                "GROUP BY szh.TIPUS, YEAR(f.METTOL), MONTH(f.METTOL)"
            ],
            "metadata": {
                "azdata_cell_guid": "cd538b6c-b47d-47c8-bc17-aaf03d1d71e2",
                "language": "sql",
                "tags": []
            },
            "outputs": [
                {
                    "output_type": "display_data",
                    "data": {
                        "text/html": "(45 rows affected)"
                    },
                    "metadata": {}
                },
                {
                    "output_type": "display_data",
                    "data": {
                        "text/html": "Total execution time: 00:00:00.012"
                    },
                    "metadata": {}
                },
                {
                    "output_type": "execute_result",
                    "metadata": {},
                    "execution_count": 17,
                    "data": {
                        "application/vnd.dataresource+json": {
                            "schema": {
                                "fields": [
                                    {
                                        "name": "TIPUS"
                                    },
                                    {
                                        "name": "Év"
                                    },
                                    {
                                        "name": "Hónap"
                                    },
                                    {
                                        "name": "Foglalások száma"
                                    }
                                ]
                            },
                            "data": [
                                {
                                    "TIPUS": "Apartman",
                                    "Év": "2016",
                                    "Hónap": "4",
                                    "Foglalások száma": "2"
                                },
                                {
                                    "TIPUS": "Apartman",
                                    "Év": "2016",
                                    "Hónap": "5",
                                    "Foglalások száma": "1"
                                },
                                {
                                    "TIPUS": "Apartman",
                                    "Év": "2016",
                                    "Hónap": "6",
                                    "Foglalások száma": "1"
                                },
                                {
                                    "TIPUS": "Apartman",
                                    "Év": "2016",
                                    "Hónap": "7",
                                    "Foglalások száma": "1"
                                },
                                {
                                    "TIPUS": "Apartman",
                                    "Év": "2016",
                                    "Hónap": "8",
                                    "Foglalások száma": "2"
                                },
                                {
                                    "TIPUS": "Apartman",
                                    "Év": "2016",
                                    "Hónap": "9",
                                    "Foglalások száma": "3"
                                },
                                {
                                    "TIPUS": "Apartman",
                                    "Év": "2016",
                                    "Hónap": "10",
                                    "Foglalások száma": "9"
                                },
                                {
                                    "TIPUS": "Apartman",
                                    "Év": "2016",
                                    "Hónap": "11",
                                    "Foglalások száma": "3"
                                },
                                {
                                    "TIPUS": "Apartman",
                                    "Év": "2016",
                                    "Hónap": "12",
                                    "Foglalások száma": "2"
                                },
                                {
                                    "TIPUS": "Apartman",
                                    "Év": "2017",
                                    "Hónap": "1",
                                    "Foglalások száma": "1"
                                },
                                {
                                    "TIPUS": "Apartman",
                                    "Év": "2017",
                                    "Hónap": "2",
                                    "Foglalások száma": "5"
                                },
                                {
                                    "TIPUS": "Hotel",
                                    "Év": "2016",
                                    "Hónap": "4",
                                    "Foglalások száma": "16"
                                },
                                {
                                    "TIPUS": "Hotel",
                                    "Év": "2016",
                                    "Hónap": "5",
                                    "Foglalások száma": "32"
                                },
                                {
                                    "TIPUS": "Hotel",
                                    "Év": "2016",
                                    "Hónap": "6",
                                    "Foglalások száma": "29"
                                },
                                {
                                    "TIPUS": "Hotel",
                                    "Év": "2016",
                                    "Hónap": "7",
                                    "Foglalások száma": "30"
                                },
                                {
                                    "TIPUS": "Hotel",
                                    "Év": "2016",
                                    "Hónap": "8",
                                    "Foglalások száma": "22"
                                },
                                {
                                    "TIPUS": "Hotel",
                                    "Év": "2016",
                                    "Hónap": "9",
                                    "Foglalások száma": "19"
                                },
                                {
                                    "TIPUS": "Hotel",
                                    "Év": "2016",
                                    "Hónap": "10",
                                    "Foglalások száma": "36"
                                },
                                {
                                    "TIPUS": "Hotel",
                                    "Év": "2016",
                                    "Hónap": "11",
                                    "Foglalások száma": "27"
                                },
                                {
                                    "TIPUS": "Hotel",
                                    "Év": "2016",
                                    "Hónap": "12",
                                    "Foglalások száma": "25"
                                },
                                {
                                    "TIPUS": "Hotel",
                                    "Év": "2017",
                                    "Hónap": "1",
                                    "Foglalások száma": "28"
                                },
                                {
                                    "TIPUS": "Hotel",
                                    "Év": "2017",
                                    "Hónap": "2",
                                    "Foglalások száma": "21"
                                },
                                {
                                    "TIPUS": "Hotel",
                                    "Év": "2017",
                                    "Hónap": "3",
                                    "Foglalások száma": "1"
                                },
                                {
                                    "TIPUS": "panzió",
                                    "Év": "2016",
                                    "Hónap": "4",
                                    "Foglalások száma": "2"
                                },
                                {
                                    "TIPUS": "panzió",
                                    "Év": "2016",
                                    "Hónap": "5",
                                    "Foglalások száma": "9"
                                },
                                {
                                    "TIPUS": "panzió",
                                    "Év": "2016",
                                    "Hónap": "6",
                                    "Foglalások száma": "10"
                                },
                                {
                                    "TIPUS": "panzió",
                                    "Év": "2016",
                                    "Hónap": "7",
                                    "Foglalások száma": "7"
                                },
                                {
                                    "TIPUS": "panzió",
                                    "Év": "2016",
                                    "Hónap": "8",
                                    "Foglalások száma": "6"
                                },
                                {
                                    "TIPUS": "panzió",
                                    "Év": "2016",
                                    "Hónap": "9",
                                    "Foglalások száma": "6"
                                },
                                {
                                    "TIPUS": "panzió",
                                    "Év": "2016",
                                    "Hónap": "10",
                                    "Foglalások száma": "11"
                                },
                                {
                                    "TIPUS": "panzió",
                                    "Év": "2016",
                                    "Hónap": "11",
                                    "Foglalások száma": "3"
                                },
                                {
                                    "TIPUS": "panzió",
                                    "Év": "2016",
                                    "Hónap": "12",
                                    "Foglalások száma": "6"
                                },
                                {
                                    "TIPUS": "panzió",
                                    "Év": "2017",
                                    "Hónap": "1",
                                    "Foglalások száma": "5"
                                },
                                {
                                    "TIPUS": "panzió",
                                    "Év": "2017",
                                    "Hónap": "2",
                                    "Foglalások száma": "5"
                                },
                                {
                                    "TIPUS": "panzió",
                                    "Év": "2017",
                                    "Hónap": "3",
                                    "Foglalások száma": "1"
                                },
                                {
                                    "TIPUS": "vendégház",
                                    "Év": "2016",
                                    "Hónap": "4",
                                    "Foglalások száma": "2"
                                },
                                {
                                    "TIPUS": "vendégház",
                                    "Év": "2016",
                                    "Hónap": "5",
                                    "Foglalások száma": "5"
                                },
                                {
                                    "TIPUS": "vendégház",
                                    "Év": "2016",
                                    "Hónap": "6",
                                    "Foglalások száma": "3"
                                },
                                {
                                    "TIPUS": "vendégház",
                                    "Év": "2016",
                                    "Hónap": "7",
                                    "Foglalások száma": "5"
                                },
                                {
                                    "TIPUS": "vendégház",
                                    "Év": "2016",
                                    "Hónap": "8",
                                    "Foglalások száma": "5"
                                },
                                {
                                    "TIPUS": "vendégház",
                                    "Év": "2016",
                                    "Hónap": "9",
                                    "Foglalások száma": "4"
                                },
                                {
                                    "TIPUS": "vendégház",
                                    "Év": "2016",
                                    "Hónap": "10",
                                    "Foglalások száma": "7"
                                },
                                {
                                    "TIPUS": "vendégház",
                                    "Év": "2016",
                                    "Hónap": "11",
                                    "Foglalások száma": "4"
                                },
                                {
                                    "TIPUS": "vendégház",
                                    "Év": "2017",
                                    "Hónap": "1",
                                    "Foglalások száma": "1"
                                },
                                {
                                    "TIPUS": "vendégház",
                                    "Év": "2017",
                                    "Hónap": "2",
                                    "Foglalások száma": "3"
                                }
                            ]
                        },
                        "text/html": [
                            "<table>",
                            "<tr><th>TIPUS</th><th>Év</th><th>Hónap</th><th>Foglalások száma</th></tr>",
                            "<tr><td>Apartman</td><td>2016</td><td>4</td><td>2</td></tr>",
                            "<tr><td>Apartman</td><td>2016</td><td>5</td><td>1</td></tr>",
                            "<tr><td>Apartman</td><td>2016</td><td>6</td><td>1</td></tr>",
                            "<tr><td>Apartman</td><td>2016</td><td>7</td><td>1</td></tr>",
                            "<tr><td>Apartman</td><td>2016</td><td>8</td><td>2</td></tr>",
                            "<tr><td>Apartman</td><td>2016</td><td>9</td><td>3</td></tr>",
                            "<tr><td>Apartman</td><td>2016</td><td>10</td><td>9</td></tr>",
                            "<tr><td>Apartman</td><td>2016</td><td>11</td><td>3</td></tr>",
                            "<tr><td>Apartman</td><td>2016</td><td>12</td><td>2</td></tr>",
                            "<tr><td>Apartman</td><td>2017</td><td>1</td><td>1</td></tr>",
                            "<tr><td>Apartman</td><td>2017</td><td>2</td><td>5</td></tr>",
                            "<tr><td>Hotel</td><td>2016</td><td>4</td><td>16</td></tr>",
                            "<tr><td>Hotel</td><td>2016</td><td>5</td><td>32</td></tr>",
                            "<tr><td>Hotel</td><td>2016</td><td>6</td><td>29</td></tr>",
                            "<tr><td>Hotel</td><td>2016</td><td>7</td><td>30</td></tr>",
                            "<tr><td>Hotel</td><td>2016</td><td>8</td><td>22</td></tr>",
                            "<tr><td>Hotel</td><td>2016</td><td>9</td><td>19</td></tr>",
                            "<tr><td>Hotel</td><td>2016</td><td>10</td><td>36</td></tr>",
                            "<tr><td>Hotel</td><td>2016</td><td>11</td><td>27</td></tr>",
                            "<tr><td>Hotel</td><td>2016</td><td>12</td><td>25</td></tr>",
                            "<tr><td>Hotel</td><td>2017</td><td>1</td><td>28</td></tr>",
                            "<tr><td>Hotel</td><td>2017</td><td>2</td><td>21</td></tr>",
                            "<tr><td>Hotel</td><td>2017</td><td>3</td><td>1</td></tr>",
                            "<tr><td>panzió</td><td>2016</td><td>4</td><td>2</td></tr>",
                            "<tr><td>panzió</td><td>2016</td><td>5</td><td>9</td></tr>",
                            "<tr><td>panzió</td><td>2016</td><td>6</td><td>10</td></tr>",
                            "<tr><td>panzió</td><td>2016</td><td>7</td><td>7</td></tr>",
                            "<tr><td>panzió</td><td>2016</td><td>8</td><td>6</td></tr>",
                            "<tr><td>panzió</td><td>2016</td><td>9</td><td>6</td></tr>",
                            "<tr><td>panzió</td><td>2016</td><td>10</td><td>11</td></tr>",
                            "<tr><td>panzió</td><td>2016</td><td>11</td><td>3</td></tr>",
                            "<tr><td>panzió</td><td>2016</td><td>12</td><td>6</td></tr>",
                            "<tr><td>panzió</td><td>2017</td><td>1</td><td>5</td></tr>",
                            "<tr><td>panzió</td><td>2017</td><td>2</td><td>5</td></tr>",
                            "<tr><td>panzió</td><td>2017</td><td>3</td><td>1</td></tr>",
                            "<tr><td>vendégház</td><td>2016</td><td>4</td><td>2</td></tr>",
                            "<tr><td>vendégház</td><td>2016</td><td>5</td><td>5</td></tr>",
                            "<tr><td>vendégház</td><td>2016</td><td>6</td><td>3</td></tr>",
                            "<tr><td>vendégház</td><td>2016</td><td>7</td><td>5</td></tr>",
                            "<tr><td>vendégház</td><td>2016</td><td>8</td><td>5</td></tr>",
                            "<tr><td>vendégház</td><td>2016</td><td>9</td><td>4</td></tr>",
                            "<tr><td>vendégház</td><td>2016</td><td>10</td><td>7</td></tr>",
                            "<tr><td>vendégház</td><td>2016</td><td>11</td><td>4</td></tr>",
                            "<tr><td>vendégház</td><td>2017</td><td>1</td><td>1</td></tr>",
                            "<tr><td>vendégház</td><td>2017</td><td>2</td><td>3</td></tr>",
                            "</table>"
                        ]
                    }
                }
            ],
            "execution_count": 17
        }
    ]
}