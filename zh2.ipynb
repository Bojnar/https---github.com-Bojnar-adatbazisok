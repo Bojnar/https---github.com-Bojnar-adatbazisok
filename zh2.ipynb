{
    "metadata": {
        "kernelspec": {
            "name": "SQL",
            "display_name": "SQL",
            "language": "sql"
        },
        "language_info": {
            "name": "sql",
            "version": ""
        }
    },
    "nbformat_minor": 2,
    "nbformat": 4,
    "cells": [
        {
            "cell_type": "code",
            "source": [
                "SELECT SZALLAS_NEV,\r\n",
                "       TIPUS,\r\n",
                "       HELY,\r\n",
                "       ROUND(AVG(CSILLAGOK_SZAMA), 2) AS 'Átlagos csillagszám'\r\n",
                "FROM Szallashely\r\n",
                "WHERE SZALLAS_NEV NOT LIKE '%-%'\r\n",
                "GROUP BY SZALLAS_NEV, TIPUS, HELY"
            ],
            "metadata": {
                "azdata_cell_guid": "25ad5596-d68c-4258-a0a9-7746d6f10cc4",
                "language": "sql"
            },
            "outputs": [
                {
                    "output_type": "display_data",
                    "data": {
                        "text/html": "(20 rows affected)"
                    },
                    "metadata": {}
                },
                {
                    "output_type": "display_data",
                    "data": {
                        "text/html": "Total execution time: 00:00:00.008"
                    },
                    "metadata": {}
                },
                {
                    "output_type": "execute_result",
                    "metadata": {},
                    "execution_count": 26,
                    "data": {
                        "application/vnd.dataresource+json": {
                            "schema": {
                                "fields": [
                                    {
                                        "name": "SZALLAS_NEV"
                                    },
                                    {
                                        "name": "TIPUS"
                                    },
                                    {
                                        "name": "HELY"
                                    },
                                    {
                                        "name": "Átlagos csillagszám"
                                    }
                                ]
                            },
                            "data": [
                                {
                                    "SZALLAS_NEV": "Bagoly Hotel",
                                    "TIPUS": "Hotel",
                                    "HELY": "Pest megye",
                                    "Átlagos csillagszám": "3"
                                },
                                {
                                    "SZALLAS_NEV": "Családi Ház",
                                    "TIPUS": "vendégház",
                                    "HELY": "Balaton-dél",
                                    "Átlagos csillagszám": "0"
                                },
                                {
                                    "SZALLAS_NEV": "Fortuna Apartman",
                                    "TIPUS": "Apartman",
                                    "HELY": "Dél-Somogy",
                                    "Átlagos csillagszám": "0"
                                },
                                {
                                    "SZALLAS_NEV": "Fortuna Apartman",
                                    "TIPUS": "Apartman",
                                    "HELY": "Hajdúbihar megye",
                                    "Átlagos csillagszám": "0"
                                },
                                {
                                    "SZALLAS_NEV": "Fortuna Panzió",
                                    "TIPUS": "panzió",
                                    "HELY": "Békés megye",
                                    "Átlagos csillagszám": "3"
                                },
                                {
                                    "SZALLAS_NEV": "Fortuna panzió",
                                    "TIPUS": "panzió",
                                    "HELY": "Budapest",
                                    "Átlagos csillagszám": "3"
                                },
                                {
                                    "SZALLAS_NEV": "Gold Hotel",
                                    "TIPUS": "Hotel",
                                    "HELY": "Budapest",
                                    "Átlagos csillagszám": "3"
                                },
                                {
                                    "SZALLAS_NEV": "Hotel Három Hattyú",
                                    "TIPUS": "Hotel",
                                    "HELY": "Balaton-dél",
                                    "Átlagos csillagszám": "4"
                                },
                                {
                                    "SZALLAS_NEV": "Jáde panzió",
                                    "TIPUS": "panzió",
                                    "HELY": "Balaton-dél",
                                    "Átlagos csillagszám": "3"
                                },
                                {
                                    "SZALLAS_NEV": "Kentaur Hotel",
                                    "TIPUS": "Hotel",
                                    "HELY": "Balaton-dél",
                                    "Átlagos csillagszám": "3"
                                },
                                {
                                    "SZALLAS_NEV": "Kollégium",
                                    "TIPUS": "Diákszálló",
                                    "HELY": "Budapest",
                                    "Átlagos csillagszám": "0"
                                },
                                {
                                    "SZALLAS_NEV": "Lagúna Hotel",
                                    "TIPUS": "Hotel",
                                    "HELY": "Budapest",
                                    "Átlagos csillagszám": "4"
                                },
                                {
                                    "SZALLAS_NEV": "Müller Vendégház",
                                    "TIPUS": "vendégház",
                                    "HELY": "Dél-Somogy",
                                    "Átlagos csillagszám": "0"
                                },
                                {
                                    "SZALLAS_NEV": "Nyárfás Vendégház",
                                    "TIPUS": "vendégház",
                                    "HELY": "Csongrád megye",
                                    "Átlagos csillagszám": "0"
                                },
                                {
                                    "SZALLAS_NEV": "Nyárfás Vendégház",
                                    "TIPUS": "vendégház",
                                    "HELY": "Dél-Somogy",
                                    "Átlagos csillagszám": "0"
                                },
                                {
                                    "SZALLAS_NEV": "Partiszél Vendégház",
                                    "TIPUS": "vendégház",
                                    "HELY": "Balaton-észak",
                                    "Átlagos csillagszám": "0"
                                },
                                {
                                    "SZALLAS_NEV": "Riviéra Panzió",
                                    "TIPUS": "panzió",
                                    "HELY": "Csongrád megye",
                                    "Átlagos csillagszám": "3"
                                },
                                {
                                    "SZALLAS_NEV": "Szarvas Hotel",
                                    "TIPUS": "Hotel",
                                    "HELY": "Tolna megye",
                                    "Átlagos csillagszám": "4"
                                },
                                {
                                    "SZALLAS_NEV": "Szieszta Apartmanház",
                                    "TIPUS": "Apartman",
                                    "HELY": "Balaton-dél",
                                    "Átlagos csillagszám": "0"
                                },
                                {
                                    "SZALLAS_NEV": "Tímárház Panzió",
                                    "TIPUS": "panzió",
                                    "HELY": "Balaton-dél",
                                    "Átlagos csillagszám": "3"
                                }
                            ]
                        },
                        "text/html": [
                            "<table>",
                            "<tr><th>SZALLAS_NEV</th><th>TIPUS</th><th>HELY</th><th>Átlagos csillagszám</th></tr>",
                            "<tr><td>Bagoly Hotel</td><td>Hotel</td><td>Pest megye</td><td>3</td></tr>",
                            "<tr><td>Családi Ház</td><td>vendégház</td><td>Balaton-dél</td><td>0</td></tr>",
                            "<tr><td>Fortuna Apartman</td><td>Apartman</td><td>Dél-Somogy</td><td>0</td></tr>",
                            "<tr><td>Fortuna Apartman</td><td>Apartman</td><td>Hajdúbihar megye</td><td>0</td></tr>",
                            "<tr><td>Fortuna Panzió</td><td>panzió</td><td>Békés megye</td><td>3</td></tr>",
                            "<tr><td>Fortuna panzió</td><td>panzió</td><td>Budapest</td><td>3</td></tr>",
                            "<tr><td>Gold Hotel</td><td>Hotel</td><td>Budapest</td><td>3</td></tr>",
                            "<tr><td>Hotel Három Hattyú</td><td>Hotel</td><td>Balaton-dél</td><td>4</td></tr>",
                            "<tr><td>Jáde panzió</td><td>panzió</td><td>Balaton-dél</td><td>3</td></tr>",
                            "<tr><td>Kentaur Hotel</td><td>Hotel</td><td>Balaton-dél</td><td>3</td></tr>",
                            "<tr><td>Kollégium</td><td>Diákszálló</td><td>Budapest</td><td>0</td></tr>",
                            "<tr><td>Lagúna Hotel</td><td>Hotel</td><td>Budapest</td><td>4</td></tr>",
                            "<tr><td>Müller Vendégház</td><td>vendégház</td><td>Dél-Somogy</td><td>0</td></tr>",
                            "<tr><td>Nyárfás Vendégház</td><td>vendégház</td><td>Csongrád megye</td><td>0</td></tr>",
                            "<tr><td>Nyárfás Vendégház</td><td>vendégház</td><td>Dél-Somogy</td><td>0</td></tr>",
                            "<tr><td>Partiszél Vendégház</td><td>vendégház</td><td>Balaton-észak</td><td>0</td></tr>",
                            "<tr><td>Riviéra Panzió</td><td>panzió</td><td>Csongrád megye</td><td>3</td></tr>",
                            "<tr><td>Szarvas Hotel</td><td>Hotel</td><td>Tolna megye</td><td>4</td></tr>",
                            "<tr><td>Szieszta Apartmanház</td><td>Apartman</td><td>Balaton-dél</td><td>0</td></tr>",
                            "<tr><td>Tímárház Panzió</td><td>panzió</td><td>Balaton-dél</td><td>3</td></tr>",
                            "</table>"
                        ]
                    }
                }
            ],
            "execution_count": 26
        },
        {
            "cell_type": "code",
            "source": [
                "SELECT sz.SZOBA_ID,\r\n",
                "       COUNT(FOGLALAS_PK),\r\n",
                "       ROW_NUMBER() OVER (ORDER BY COUNT(FOGLALAS_PK) DESC) AS 'helyezés'\r\n",
                "FROM Szoba sz JOIN Foglalas f ON sz.SZOBA_ID = f.SZOBA_FK\r\n",
                "GROUP BY sz.SZOBA_ID"
            ],
            "metadata": {
                "azdata_cell_guid": "14f5388e-b3b4-4dc8-af63-7337b2aec24a",
                "language": "sql"
            },
            "outputs": [
                {
                    "output_type": "display_data",
                    "data": {
                        "text/html": "(197 rows affected)"
                    },
                    "metadata": {}
                },
                {
                    "output_type": "display_data",
                    "data": {
                        "text/html": "Total execution time: 00:00:00.015"
                    },
                    "metadata": {}
                },
                {
                    "output_type": "execute_result",
                    "metadata": {},
                    "execution_count": 29,
                    "data": {
                        "application/vnd.dataresource+json": {
                            "schema": {
                                "fields": [
                                    {
                                        "name": "SZOBA_ID"
                                    },
                                    {
                                        "name": "(No column name)"
                                    },
                                    {
                                        "name": "helyezés"
                                    }
                                ]
                            },
                            "data": [
                                {
                                    "SZOBA_ID": "58",
                                    "(No column name)": "13",
                                    "helyezés": "1"
                                },
                                {
                                    "SZOBA_ID": "182",
                                    "(No column name)": "12",
                                    "helyezés": "2"
                                },
                                {
                                    "SZOBA_ID": "185",
                                    "(No column name)": "12",
                                    "helyezés": "3"
                                },
                                {
                                    "SZOBA_ID": "70",
                                    "(No column name)": "11",
                                    "helyezés": "4"
                                },
                                {
                                    "SZOBA_ID": "94",
                                    "(No column name)": "10",
                                    "helyezés": "5"
                                },
                                {
                                    "SZOBA_ID": "122",
                                    "(No column name)": "9",
                                    "helyezés": "6"
                                },
                                {
                                    "SZOBA_ID": "74",
                                    "(No column name)": "9",
                                    "helyezés": "7"
                                },
                                {
                                    "SZOBA_ID": "48",
                                    "(No column name)": "9",
                                    "helyezés": "8"
                                },
                                {
                                    "SZOBA_ID": "12",
                                    "(No column name)": "9",
                                    "helyezés": "9"
                                },
                                {
                                    "SZOBA_ID": "35",
                                    "(No column name)": "9",
                                    "helyezés": "10"
                                },
                                {
                                    "SZOBA_ID": "172",
                                    "(No column name)": "9",
                                    "helyezés": "11"
                                },
                                {
                                    "SZOBA_ID": "198",
                                    "(No column name)": "8",
                                    "helyezés": "12"
                                },
                                {
                                    "SZOBA_ID": "38",
                                    "(No column name)": "8",
                                    "helyezés": "13"
                                },
                                {
                                    "SZOBA_ID": "1",
                                    "(No column name)": "8",
                                    "helyezés": "14"
                                },
                                {
                                    "SZOBA_ID": "3",
                                    "(No column name)": "8",
                                    "helyezés": "15"
                                },
                                {
                                    "SZOBA_ID": "43",
                                    "(No column name)": "8",
                                    "helyezés": "16"
                                },
                                {
                                    "SZOBA_ID": "55",
                                    "(No column name)": "8",
                                    "helyezés": "17"
                                },
                                {
                                    "SZOBA_ID": "121",
                                    "(No column name)": "8",
                                    "helyezés": "18"
                                },
                                {
                                    "SZOBA_ID": "140",
                                    "(No column name)": "8",
                                    "helyezés": "19"
                                },
                                {
                                    "SZOBA_ID": "83",
                                    "(No column name)": "8",
                                    "helyezés": "20"
                                },
                                {
                                    "SZOBA_ID": "88",
                                    "(No column name)": "8",
                                    "helyezés": "21"
                                },
                                {
                                    "SZOBA_ID": "89",
                                    "(No column name)": "8",
                                    "helyezés": "22"
                                },
                                {
                                    "SZOBA_ID": "110",
                                    "(No column name)": "8",
                                    "helyezés": "23"
                                },
                                {
                                    "SZOBA_ID": "117",
                                    "(No column name)": "8",
                                    "helyezés": "24"
                                },
                                {
                                    "SZOBA_ID": "118",
                                    "(No column name)": "7",
                                    "helyezés": "25"
                                },
                                {
                                    "SZOBA_ID": "115",
                                    "(No column name)": "7",
                                    "helyezés": "26"
                                },
                                {
                                    "SZOBA_ID": "96",
                                    "(No column name)": "7",
                                    "helyezés": "27"
                                },
                                {
                                    "SZOBA_ID": "97",
                                    "(No column name)": "7",
                                    "helyezés": "28"
                                },
                                {
                                    "SZOBA_ID": "138",
                                    "(No column name)": "7",
                                    "helyezés": "29"
                                },
                                {
                                    "SZOBA_ID": "139",
                                    "(No column name)": "7",
                                    "helyezés": "30"
                                },
                                {
                                    "SZOBA_ID": "143",
                                    "(No column name)": "7",
                                    "helyezés": "31"
                                },
                                {
                                    "SZOBA_ID": "149",
                                    "(No column name)": "7",
                                    "helyezés": "32"
                                },
                                {
                                    "SZOBA_ID": "156",
                                    "(No column name)": "7",
                                    "helyezés": "33"
                                },
                                {
                                    "SZOBA_ID": "109",
                                    "(No column name)": "7",
                                    "helyezés": "34"
                                },
                                {
                                    "SZOBA_ID": "127",
                                    "(No column name)": "7",
                                    "helyezés": "35"
                                },
                                {
                                    "SZOBA_ID": "59",
                                    "(No column name)": "7",
                                    "helyezés": "36"
                                },
                                {
                                    "SZOBA_ID": "49",
                                    "(No column name)": "7",
                                    "helyezés": "37"
                                },
                                {
                                    "SZOBA_ID": "80",
                                    "(No column name)": "7",
                                    "helyezés": "38"
                                },
                                {
                                    "SZOBA_ID": "39",
                                    "(No column name)": "7",
                                    "helyezés": "39"
                                },
                                {
                                    "SZOBA_ID": "27",
                                    "(No column name)": "7",
                                    "helyezés": "40"
                                },
                                {
                                    "SZOBA_ID": "163",
                                    "(No column name)": "7",
                                    "helyezés": "41"
                                },
                                {
                                    "SZOBA_ID": "165",
                                    "(No column name)": "7",
                                    "helyezés": "42"
                                },
                                {
                                    "SZOBA_ID": "193",
                                    "(No column name)": "7",
                                    "helyezés": "43"
                                },
                                {
                                    "SZOBA_ID": "187",
                                    "(No column name)": "7",
                                    "helyezés": "44"
                                },
                                {
                                    "SZOBA_ID": "188",
                                    "(No column name)": "6",
                                    "helyezés": "45"
                                },
                                {
                                    "SZOBA_ID": "195",
                                    "(No column name)": "6",
                                    "helyezés": "46"
                                },
                                {
                                    "SZOBA_ID": "181",
                                    "(No column name)": "6",
                                    "helyezés": "47"
                                },
                                {
                                    "SZOBA_ID": "197",
                                    "(No column name)": "6",
                                    "helyezés": "48"
                                },
                                {
                                    "SZOBA_ID": "161",
                                    "(No column name)": "6",
                                    "helyezés": "49"
                                },
                                {
                                    "SZOBA_ID": "169",
                                    "(No column name)": "6",
                                    "helyezés": "50"
                                },
                                {
                                    "SZOBA_ID": "176",
                                    "(No column name)": "6",
                                    "helyezés": "51"
                                },
                                {
                                    "SZOBA_ID": "28",
                                    "(No column name)": "6",
                                    "helyezés": "52"
                                },
                                {
                                    "SZOBA_ID": "29",
                                    "(No column name)": "6",
                                    "helyezés": "53"
                                },
                                {
                                    "SZOBA_ID": "22",
                                    "(No column name)": "6",
                                    "helyezés": "54"
                                },
                                {
                                    "SZOBA_ID": "36",
                                    "(No column name)": "6",
                                    "helyezés": "55"
                                },
                                {
                                    "SZOBA_ID": "33",
                                    "(No column name)": "6",
                                    "helyezés": "56"
                                },
                                {
                                    "SZOBA_ID": "4",
                                    "(No column name)": "6",
                                    "helyezés": "57"
                                },
                                {
                                    "SZOBA_ID": "6",
                                    "(No column name)": "6",
                                    "helyezés": "58"
                                },
                                {
                                    "SZOBA_ID": "7",
                                    "(No column name)": "6",
                                    "helyezés": "59"
                                },
                                {
                                    "SZOBA_ID": "9",
                                    "(No column name)": "6",
                                    "helyezés": "60"
                                },
                                {
                                    "SZOBA_ID": "15",
                                    "(No column name)": "6",
                                    "helyezés": "61"
                                },
                                {
                                    "SZOBA_ID": "17",
                                    "(No column name)": "6",
                                    "helyezés": "62"
                                },
                                {
                                    "SZOBA_ID": "18",
                                    "(No column name)": "6",
                                    "helyezés": "63"
                                },
                                {
                                    "SZOBA_ID": "19",
                                    "(No column name)": "6",
                                    "helyezés": "64"
                                },
                                {
                                    "SZOBA_ID": "77",
                                    "(No column name)": "6",
                                    "helyezés": "65"
                                },
                                {
                                    "SZOBA_ID": "78",
                                    "(No column name)": "6",
                                    "helyezés": "66"
                                },
                                {
                                    "SZOBA_ID": "67",
                                    "(No column name)": "6",
                                    "helyezés": "67"
                                },
                                {
                                    "SZOBA_ID": "64",
                                    "(No column name)": "6",
                                    "helyezés": "68"
                                },
                                {
                                    "SZOBA_ID": "44",
                                    "(No column name)": "6",
                                    "helyezés": "69"
                                },
                                {
                                    "SZOBA_ID": "42",
                                    "(No column name)": "6",
                                    "helyezés": "70"
                                },
                                {
                                    "SZOBA_ID": "54",
                                    "(No column name)": "6",
                                    "helyezés": "71"
                                },
                                {
                                    "SZOBA_ID": "130",
                                    "(No column name)": "6",
                                    "helyezés": "72"
                                },
                                {
                                    "SZOBA_ID": "132",
                                    "(No column name)": "6",
                                    "helyezés": "73"
                                },
                                {
                                    "SZOBA_ID": "133",
                                    "(No column name)": "6",
                                    "helyezés": "74"
                                },
                                {
                                    "SZOBA_ID": "134",
                                    "(No column name)": "6",
                                    "helyezés": "75"
                                },
                                {
                                    "SZOBA_ID": "120",
                                    "(No column name)": "6",
                                    "helyezés": "76"
                                },
                                {
                                    "SZOBA_ID": "126",
                                    "(No column name)": "6",
                                    "helyezés": "77"
                                },
                                {
                                    "SZOBA_ID": "124",
                                    "(No column name)": "6",
                                    "helyezés": "78"
                                },
                                {
                                    "SZOBA_ID": "150",
                                    "(No column name)": "6",
                                    "helyezés": "79"
                                },
                                {
                                    "SZOBA_ID": "137",
                                    "(No column name)": "6",
                                    "helyezés": "80"
                                },
                                {
                                    "SZOBA_ID": "148",
                                    "(No column name)": "6",
                                    "helyezés": "81"
                                },
                                {
                                    "SZOBA_ID": "145",
                                    "(No column name)": "6",
                                    "helyezés": "82"
                                },
                                {
                                    "SZOBA_ID": "146",
                                    "(No column name)": "6",
                                    "helyezés": "83"
                                },
                                {
                                    "SZOBA_ID": "141",
                                    "(No column name)": "6",
                                    "helyezés": "84"
                                },
                                {
                                    "SZOBA_ID": "92",
                                    "(No column name)": "6",
                                    "helyezés": "85"
                                },
                                {
                                    "SZOBA_ID": "82",
                                    "(No column name)": "6",
                                    "helyezés": "86"
                                },
                                {
                                    "SZOBA_ID": "106",
                                    "(No column name)": "6",
                                    "helyezés": "87"
                                },
                                {
                                    "SZOBA_ID": "107",
                                    "(No column name)": "5",
                                    "helyezés": "88"
                                },
                                {
                                    "SZOBA_ID": "99",
                                    "(No column name)": "5",
                                    "helyezés": "89"
                                },
                                {
                                    "SZOBA_ID": "119",
                                    "(No column name)": "5",
                                    "helyezés": "90"
                                },
                                {
                                    "SZOBA_ID": "111",
                                    "(No column name)": "5",
                                    "helyezés": "91"
                                },
                                {
                                    "SZOBA_ID": "112",
                                    "(No column name)": "5",
                                    "helyezés": "92"
                                },
                                {
                                    "SZOBA_ID": "113",
                                    "(No column name)": "5",
                                    "helyezés": "93"
                                },
                                {
                                    "SZOBA_ID": "93",
                                    "(No column name)": "5",
                                    "helyezés": "94"
                                },
                                {
                                    "SZOBA_ID": "86",
                                    "(No column name)": "5",
                                    "helyezés": "95"
                                },
                                {
                                    "SZOBA_ID": "87",
                                    "(No column name)": "5",
                                    "helyezés": "96"
                                },
                                {
                                    "SZOBA_ID": "144",
                                    "(No column name)": "5",
                                    "helyezés": "97"
                                },
                                {
                                    "SZOBA_ID": "157",
                                    "(No column name)": "5",
                                    "helyezés": "98"
                                },
                                {
                                    "SZOBA_ID": "153",
                                    "(No column name)": "5",
                                    "helyezés": "99"
                                },
                                {
                                    "SZOBA_ID": "154",
                                    "(No column name)": "5",
                                    "helyezés": "100"
                                },
                                {
                                    "SZOBA_ID": "155",
                                    "(No column name)": "5",
                                    "helyezés": "101"
                                },
                                {
                                    "SZOBA_ID": "123",
                                    "(No column name)": "5",
                                    "helyezés": "102"
                                },
                                {
                                    "SZOBA_ID": "131",
                                    "(No column name)": "5",
                                    "helyezés": "103"
                                },
                                {
                                    "SZOBA_ID": "128",
                                    "(No column name)": "5",
                                    "helyezés": "104"
                                },
                                {
                                    "SZOBA_ID": "61",
                                    "(No column name)": "5",
                                    "helyezés": "105"
                                },
                                {
                                    "SZOBA_ID": "62",
                                    "(No column name)": "5",
                                    "helyezés": "106"
                                },
                                {
                                    "SZOBA_ID": "45",
                                    "(No column name)": "5",
                                    "helyezés": "107"
                                },
                                {
                                    "SZOBA_ID": "51",
                                    "(No column name)": "5",
                                    "helyezés": "108"
                                },
                                {
                                    "SZOBA_ID": "52",
                                    "(No column name)": "5",
                                    "helyezés": "109"
                                },
                                {
                                    "SZOBA_ID": "79",
                                    "(No column name)": "5",
                                    "helyezés": "110"
                                },
                                {
                                    "SZOBA_ID": "81",
                                    "(No column name)": "5",
                                    "helyezés": "111"
                                },
                                {
                                    "SZOBA_ID": "20",
                                    "(No column name)": "5",
                                    "helyezés": "112"
                                },
                                {
                                    "SZOBA_ID": "16",
                                    "(No column name)": "5",
                                    "helyezés": "113"
                                },
                                {
                                    "SZOBA_ID": "8",
                                    "(No column name)": "5",
                                    "helyezés": "114"
                                },
                                {
                                    "SZOBA_ID": "170",
                                    "(No column name)": "5",
                                    "helyezés": "115"
                                },
                                {
                                    "SZOBA_ID": "171",
                                    "(No column name)": "5",
                                    "helyezés": "116"
                                },
                                {
                                    "SZOBA_ID": "160",
                                    "(No column name)": "5",
                                    "helyezés": "117"
                                },
                                {
                                    "SZOBA_ID": "164",
                                    "(No column name)": "5",
                                    "helyezés": "118"
                                },
                                {
                                    "SZOBA_ID": "189",
                                    "(No column name)": "5",
                                    "helyezés": "119"
                                },
                                {
                                    "SZOBA_ID": "190",
                                    "(No column name)": "5",
                                    "helyezés": "120"
                                },
                                {
                                    "SZOBA_ID": "191",
                                    "(No column name)": "5",
                                    "helyezés": "121"
                                },
                                {
                                    "SZOBA_ID": "168",
                                    "(No column name)": "5",
                                    "helyezés": "122"
                                },
                                {
                                    "SZOBA_ID": "175",
                                    "(No column name)": "5",
                                    "helyezés": "123"
                                },
                                {
                                    "SZOBA_ID": "183",
                                    "(No column name)": "4",
                                    "helyezés": "124"
                                },
                                {
                                    "SZOBA_ID": "184",
                                    "(No column name)": "4",
                                    "helyezés": "125"
                                },
                                {
                                    "SZOBA_ID": "196",
                                    "(No column name)": "4",
                                    "helyezés": "126"
                                },
                                {
                                    "SZOBA_ID": "186",
                                    "(No column name)": "4",
                                    "helyezés": "127"
                                },
                                {
                                    "SZOBA_ID": "152",
                                    "(No column name)": "4",
                                    "helyezés": "128"
                                },
                                {
                                    "SZOBA_ID": "173",
                                    "(No column name)": "4",
                                    "helyezés": "129"
                                },
                                {
                                    "SZOBA_ID": "174",
                                    "(No column name)": "4",
                                    "helyezés": "130"
                                },
                                {
                                    "SZOBA_ID": "177",
                                    "(No column name)": "4",
                                    "helyezés": "131"
                                },
                                {
                                    "SZOBA_ID": "178",
                                    "(No column name)": "4",
                                    "helyezés": "132"
                                },
                                {
                                    "SZOBA_ID": "10",
                                    "(No column name)": "4",
                                    "helyezés": "133"
                                },
                                {
                                    "SZOBA_ID": "11",
                                    "(No column name)": "4",
                                    "helyezés": "134"
                                },
                                {
                                    "SZOBA_ID": "5",
                                    "(No column name)": "4",
                                    "helyezés": "135"
                                },
                                {
                                    "SZOBA_ID": "2",
                                    "(No column name)": "4",
                                    "helyezés": "136"
                                },
                                {
                                    "SZOBA_ID": "13",
                                    "(No column name)": "4",
                                    "helyezés": "137"
                                },
                                {
                                    "SZOBA_ID": "21",
                                    "(No column name)": "4",
                                    "helyezés": "138"
                                },
                                {
                                    "SZOBA_ID": "34",
                                    "(No column name)": "4",
                                    "helyezés": "139"
                                },
                                {
                                    "SZOBA_ID": "40",
                                    "(No column name)": "4",
                                    "helyezés": "140"
                                },
                                {
                                    "SZOBA_ID": "72",
                                    "(No column name)": "4",
                                    "helyezés": "141"
                                },
                                {
                                    "SZOBA_ID": "73",
                                    "(No column name)": "4",
                                    "helyezés": "142"
                                },
                                {
                                    "SZOBA_ID": "57",
                                    "(No column name)": "4",
                                    "helyezés": "143"
                                },
                                {
                                    "SZOBA_ID": "66",
                                    "(No column name)": "4",
                                    "helyezés": "144"
                                },
                                {
                                    "SZOBA_ID": "50",
                                    "(No column name)": "4",
                                    "helyezés": "145"
                                },
                                {
                                    "SZOBA_ID": "46",
                                    "(No column name)": "4",
                                    "helyezés": "146"
                                },
                                {
                                    "SZOBA_ID": "63",
                                    "(No column name)": "4",
                                    "helyezés": "147"
                                },
                                {
                                    "SZOBA_ID": "129",
                                    "(No column name)": "4",
                                    "helyezés": "148"
                                },
                                {
                                    "SZOBA_ID": "98",
                                    "(No column name)": "4",
                                    "helyezés": "149"
                                },
                                {
                                    "SZOBA_ID": "95",
                                    "(No column name)": "4",
                                    "helyezés": "150"
                                },
                                {
                                    "SZOBA_ID": "69",
                                    "(No column name)": "4",
                                    "helyezés": "151"
                                },
                                {
                                    "SZOBA_ID": "84",
                                    "(No column name)": "4",
                                    "helyezés": "152"
                                },
                                {
                                    "SZOBA_ID": "85",
                                    "(No column name)": "4",
                                    "helyezés": "153"
                                },
                                {
                                    "SZOBA_ID": "90",
                                    "(No column name)": "4",
                                    "helyezés": "154"
                                },
                                {
                                    "SZOBA_ID": "91",
                                    "(No column name)": "4",
                                    "helyezés": "155"
                                },
                                {
                                    "SZOBA_ID": "114",
                                    "(No column name)": "4",
                                    "helyezés": "156"
                                },
                                {
                                    "SZOBA_ID": "100",
                                    "(No column name)": "4",
                                    "helyezés": "157"
                                },
                                {
                                    "SZOBA_ID": "103",
                                    "(No column name)": "4",
                                    "helyezés": "158"
                                },
                                {
                                    "SZOBA_ID": "104",
                                    "(No column name)": "4",
                                    "helyezés": "159"
                                },
                                {
                                    "SZOBA_ID": "101",
                                    "(No column name)": "3",
                                    "helyezés": "160"
                                },
                                {
                                    "SZOBA_ID": "135",
                                    "(No column name)": "3",
                                    "helyezés": "161"
                                },
                                {
                                    "SZOBA_ID": "136",
                                    "(No column name)": "3",
                                    "helyezés": "162"
                                },
                                {
                                    "SZOBA_ID": "158",
                                    "(No column name)": "3",
                                    "helyezés": "163"
                                },
                                {
                                    "SZOBA_ID": "151",
                                    "(No column name)": "3",
                                    "helyezés": "164"
                                },
                                {
                                    "SZOBA_ID": "68",
                                    "(No column name)": "3",
                                    "helyezés": "165"
                                },
                                {
                                    "SZOBA_ID": "71",
                                    "(No column name)": "3",
                                    "helyezés": "166"
                                },
                                {
                                    "SZOBA_ID": "75",
                                    "(No column name)": "3",
                                    "helyezés": "167"
                                },
                                {
                                    "SZOBA_ID": "76",
                                    "(No column name)": "3",
                                    "helyezés": "168"
                                },
                                {
                                    "SZOBA_ID": "37",
                                    "(No column name)": "3",
                                    "helyezés": "169"
                                },
                                {
                                    "SZOBA_ID": "23",
                                    "(No column name)": "3",
                                    "helyezés": "170"
                                },
                                {
                                    "SZOBA_ID": "24",
                                    "(No column name)": "3",
                                    "helyezés": "171"
                                },
                                {
                                    "SZOBA_ID": "30",
                                    "(No column name)": "3",
                                    "helyezés": "172"
                                },
                                {
                                    "SZOBA_ID": "31",
                                    "(No column name)": "3",
                                    "helyezés": "173"
                                },
                                {
                                    "SZOBA_ID": "14",
                                    "(No column name)": "3",
                                    "helyezés": "174"
                                },
                                {
                                    "SZOBA_ID": "179",
                                    "(No column name)": "3",
                                    "helyezés": "175"
                                },
                                {
                                    "SZOBA_ID": "180",
                                    "(No column name)": "3",
                                    "helyezés": "176"
                                },
                                {
                                    "SZOBA_ID": "162",
                                    "(No column name)": "3",
                                    "helyezés": "177"
                                },
                                {
                                    "SZOBA_ID": "166",
                                    "(No column name)": "3",
                                    "helyezés": "178"
                                },
                                {
                                    "SZOBA_ID": "167",
                                    "(No column name)": "2",
                                    "helyezés": "179"
                                },
                                {
                                    "SZOBA_ID": "192",
                                    "(No column name)": "2",
                                    "helyezés": "180"
                                },
                                {
                                    "SZOBA_ID": "25",
                                    "(No column name)": "2",
                                    "helyezés": "181"
                                },
                                {
                                    "SZOBA_ID": "26",
                                    "(No column name)": "2",
                                    "helyezés": "182"
                                },
                                {
                                    "SZOBA_ID": "41",
                                    "(No column name)": "2",
                                    "helyezés": "183"
                                },
                                {
                                    "SZOBA_ID": "56",
                                    "(No column name)": "2",
                                    "helyezés": "184"
                                },
                                {
                                    "SZOBA_ID": "47",
                                    "(No column name)": "2",
                                    "helyezés": "185"
                                },
                                {
                                    "SZOBA_ID": "53",
                                    "(No column name)": "2",
                                    "helyezés": "186"
                                },
                                {
                                    "SZOBA_ID": "142",
                                    "(No column name)": "2",
                                    "helyezés": "187"
                                },
                                {
                                    "SZOBA_ID": "102",
                                    "(No column name)": "2",
                                    "helyezés": "188"
                                },
                                {
                                    "SZOBA_ID": "105",
                                    "(No column name)": "2",
                                    "helyezés": "189"
                                },
                                {
                                    "SZOBA_ID": "108",
                                    "(No column name)": "2",
                                    "helyezés": "190"
                                },
                                {
                                    "SZOBA_ID": "116",
                                    "(No column name)": "2",
                                    "helyezés": "191"
                                },
                                {
                                    "SZOBA_ID": "147",
                                    "(No column name)": "1",
                                    "helyezés": "192"
                                },
                                {
                                    "SZOBA_ID": "125",
                                    "(No column name)": "1",
                                    "helyezés": "193"
                                },
                                {
                                    "SZOBA_ID": "60",
                                    "(No column name)": "1",
                                    "helyezés": "194"
                                },
                                {
                                    "SZOBA_ID": "65",
                                    "(No column name)": "1",
                                    "helyezés": "195"
                                },
                                {
                                    "SZOBA_ID": "32",
                                    "(No column name)": "1",
                                    "helyezés": "196"
                                },
                                {
                                    "SZOBA_ID": "194",
                                    "(No column name)": "1",
                                    "helyezés": "197"
                                }
                            ]
                        },
                        "text/html": [
                            "<table>",
                            "<tr><th>SZOBA_ID</th><th>(No column name)</th><th>helyezés</th></tr>",
                            "<tr><td>58</td><td>13</td><td>1</td></tr>",
                            "<tr><td>182</td><td>12</td><td>2</td></tr>",
                            "<tr><td>185</td><td>12</td><td>3</td></tr>",
                            "<tr><td>70</td><td>11</td><td>4</td></tr>",
                            "<tr><td>94</td><td>10</td><td>5</td></tr>",
                            "<tr><td>122</td><td>9</td><td>6</td></tr>",
                            "<tr><td>74</td><td>9</td><td>7</td></tr>",
                            "<tr><td>48</td><td>9</td><td>8</td></tr>",
                            "<tr><td>12</td><td>9</td><td>9</td></tr>",
                            "<tr><td>35</td><td>9</td><td>10</td></tr>",
                            "<tr><td>172</td><td>9</td><td>11</td></tr>",
                            "<tr><td>198</td><td>8</td><td>12</td></tr>",
                            "<tr><td>38</td><td>8</td><td>13</td></tr>",
                            "<tr><td>1</td><td>8</td><td>14</td></tr>",
                            "<tr><td>3</td><td>8</td><td>15</td></tr>",
                            "<tr><td>43</td><td>8</td><td>16</td></tr>",
                            "<tr><td>55</td><td>8</td><td>17</td></tr>",
                            "<tr><td>121</td><td>8</td><td>18</td></tr>",
                            "<tr><td>140</td><td>8</td><td>19</td></tr>",
                            "<tr><td>83</td><td>8</td><td>20</td></tr>",
                            "<tr><td>88</td><td>8</td><td>21</td></tr>",
                            "<tr><td>89</td><td>8</td><td>22</td></tr>",
                            "<tr><td>110</td><td>8</td><td>23</td></tr>",
                            "<tr><td>117</td><td>8</td><td>24</td></tr>",
                            "<tr><td>118</td><td>7</td><td>25</td></tr>",
                            "<tr><td>115</td><td>7</td><td>26</td></tr>",
                            "<tr><td>96</td><td>7</td><td>27</td></tr>",
                            "<tr><td>97</td><td>7</td><td>28</td></tr>",
                            "<tr><td>138</td><td>7</td><td>29</td></tr>",
                            "<tr><td>139</td><td>7</td><td>30</td></tr>",
                            "<tr><td>143</td><td>7</td><td>31</td></tr>",
                            "<tr><td>149</td><td>7</td><td>32</td></tr>",
                            "<tr><td>156</td><td>7</td><td>33</td></tr>",
                            "<tr><td>109</td><td>7</td><td>34</td></tr>",
                            "<tr><td>127</td><td>7</td><td>35</td></tr>",
                            "<tr><td>59</td><td>7</td><td>36</td></tr>",
                            "<tr><td>49</td><td>7</td><td>37</td></tr>",
                            "<tr><td>80</td><td>7</td><td>38</td></tr>",
                            "<tr><td>39</td><td>7</td><td>39</td></tr>",
                            "<tr><td>27</td><td>7</td><td>40</td></tr>",
                            "<tr><td>163</td><td>7</td><td>41</td></tr>",
                            "<tr><td>165</td><td>7</td><td>42</td></tr>",
                            "<tr><td>193</td><td>7</td><td>43</td></tr>",
                            "<tr><td>187</td><td>7</td><td>44</td></tr>",
                            "<tr><td>188</td><td>6</td><td>45</td></tr>",
                            "<tr><td>195</td><td>6</td><td>46</td></tr>",
                            "<tr><td>181</td><td>6</td><td>47</td></tr>",
                            "<tr><td>197</td><td>6</td><td>48</td></tr>",
                            "<tr><td>161</td><td>6</td><td>49</td></tr>",
                            "<tr><td>169</td><td>6</td><td>50</td></tr>",
                            "<tr><td>176</td><td>6</td><td>51</td></tr>",
                            "<tr><td>28</td><td>6</td><td>52</td></tr>",
                            "<tr><td>29</td><td>6</td><td>53</td></tr>",
                            "<tr><td>22</td><td>6</td><td>54</td></tr>",
                            "<tr><td>36</td><td>6</td><td>55</td></tr>",
                            "<tr><td>33</td><td>6</td><td>56</td></tr>",
                            "<tr><td>4</td><td>6</td><td>57</td></tr>",
                            "<tr><td>6</td><td>6</td><td>58</td></tr>",
                            "<tr><td>7</td><td>6</td><td>59</td></tr>",
                            "<tr><td>9</td><td>6</td><td>60</td></tr>",
                            "<tr><td>15</td><td>6</td><td>61</td></tr>",
                            "<tr><td>17</td><td>6</td><td>62</td></tr>",
                            "<tr><td>18</td><td>6</td><td>63</td></tr>",
                            "<tr><td>19</td><td>6</td><td>64</td></tr>",
                            "<tr><td>77</td><td>6</td><td>65</td></tr>",
                            "<tr><td>78</td><td>6</td><td>66</td></tr>",
                            "<tr><td>67</td><td>6</td><td>67</td></tr>",
                            "<tr><td>64</td><td>6</td><td>68</td></tr>",
                            "<tr><td>44</td><td>6</td><td>69</td></tr>",
                            "<tr><td>42</td><td>6</td><td>70</td></tr>",
                            "<tr><td>54</td><td>6</td><td>71</td></tr>",
                            "<tr><td>130</td><td>6</td><td>72</td></tr>",
                            "<tr><td>132</td><td>6</td><td>73</td></tr>",
                            "<tr><td>133</td><td>6</td><td>74</td></tr>",
                            "<tr><td>134</td><td>6</td><td>75</td></tr>",
                            "<tr><td>120</td><td>6</td><td>76</td></tr>",
                            "<tr><td>126</td><td>6</td><td>77</td></tr>",
                            "<tr><td>124</td><td>6</td><td>78</td></tr>",
                            "<tr><td>150</td><td>6</td><td>79</td></tr>",
                            "<tr><td>137</td><td>6</td><td>80</td></tr>",
                            "<tr><td>148</td><td>6</td><td>81</td></tr>",
                            "<tr><td>145</td><td>6</td><td>82</td></tr>",
                            "<tr><td>146</td><td>6</td><td>83</td></tr>",
                            "<tr><td>141</td><td>6</td><td>84</td></tr>",
                            "<tr><td>92</td><td>6</td><td>85</td></tr>",
                            "<tr><td>82</td><td>6</td><td>86</td></tr>",
                            "<tr><td>106</td><td>6</td><td>87</td></tr>",
                            "<tr><td>107</td><td>5</td><td>88</td></tr>",
                            "<tr><td>99</td><td>5</td><td>89</td></tr>",
                            "<tr><td>119</td><td>5</td><td>90</td></tr>",
                            "<tr><td>111</td><td>5</td><td>91</td></tr>",
                            "<tr><td>112</td><td>5</td><td>92</td></tr>",
                            "<tr><td>113</td><td>5</td><td>93</td></tr>",
                            "<tr><td>93</td><td>5</td><td>94</td></tr>",
                            "<tr><td>86</td><td>5</td><td>95</td></tr>",
                            "<tr><td>87</td><td>5</td><td>96</td></tr>",
                            "<tr><td>144</td><td>5</td><td>97</td></tr>",
                            "<tr><td>157</td><td>5</td><td>98</td></tr>",
                            "<tr><td>153</td><td>5</td><td>99</td></tr>",
                            "<tr><td>154</td><td>5</td><td>100</td></tr>",
                            "<tr><td>155</td><td>5</td><td>101</td></tr>",
                            "<tr><td>123</td><td>5</td><td>102</td></tr>",
                            "<tr><td>131</td><td>5</td><td>103</td></tr>",
                            "<tr><td>128</td><td>5</td><td>104</td></tr>",
                            "<tr><td>61</td><td>5</td><td>105</td></tr>",
                            "<tr><td>62</td><td>5</td><td>106</td></tr>",
                            "<tr><td>45</td><td>5</td><td>107</td></tr>",
                            "<tr><td>51</td><td>5</td><td>108</td></tr>",
                            "<tr><td>52</td><td>5</td><td>109</td></tr>",
                            "<tr><td>79</td><td>5</td><td>110</td></tr>",
                            "<tr><td>81</td><td>5</td><td>111</td></tr>",
                            "<tr><td>20</td><td>5</td><td>112</td></tr>",
                            "<tr><td>16</td><td>5</td><td>113</td></tr>",
                            "<tr><td>8</td><td>5</td><td>114</td></tr>",
                            "<tr><td>170</td><td>5</td><td>115</td></tr>",
                            "<tr><td>171</td><td>5</td><td>116</td></tr>",
                            "<tr><td>160</td><td>5</td><td>117</td></tr>",
                            "<tr><td>164</td><td>5</td><td>118</td></tr>",
                            "<tr><td>189</td><td>5</td><td>119</td></tr>",
                            "<tr><td>190</td><td>5</td><td>120</td></tr>",
                            "<tr><td>191</td><td>5</td><td>121</td></tr>",
                            "<tr><td>168</td><td>5</td><td>122</td></tr>",
                            "<tr><td>175</td><td>5</td><td>123</td></tr>",
                            "<tr><td>183</td><td>4</td><td>124</td></tr>",
                            "<tr><td>184</td><td>4</td><td>125</td></tr>",
                            "<tr><td>196</td><td>4</td><td>126</td></tr>",
                            "<tr><td>186</td><td>4</td><td>127</td></tr>",
                            "<tr><td>152</td><td>4</td><td>128</td></tr>",
                            "<tr><td>173</td><td>4</td><td>129</td></tr>",
                            "<tr><td>174</td><td>4</td><td>130</td></tr>",
                            "<tr><td>177</td><td>4</td><td>131</td></tr>",
                            "<tr><td>178</td><td>4</td><td>132</td></tr>",
                            "<tr><td>10</td><td>4</td><td>133</td></tr>",
                            "<tr><td>11</td><td>4</td><td>134</td></tr>",
                            "<tr><td>5</td><td>4</td><td>135</td></tr>",
                            "<tr><td>2</td><td>4</td><td>136</td></tr>",
                            "<tr><td>13</td><td>4</td><td>137</td></tr>",
                            "<tr><td>21</td><td>4</td><td>138</td></tr>",
                            "<tr><td>34</td><td>4</td><td>139</td></tr>",
                            "<tr><td>40</td><td>4</td><td>140</td></tr>",
                            "<tr><td>72</td><td>4</td><td>141</td></tr>",
                            "<tr><td>73</td><td>4</td><td>142</td></tr>",
                            "<tr><td>57</td><td>4</td><td>143</td></tr>",
                            "<tr><td>66</td><td>4</td><td>144</td></tr>",
                            "<tr><td>50</td><td>4</td><td>145</td></tr>",
                            "<tr><td>46</td><td>4</td><td>146</td></tr>",
                            "<tr><td>63</td><td>4</td><td>147</td></tr>",
                            "<tr><td>129</td><td>4</td><td>148</td></tr>",
                            "<tr><td>98</td><td>4</td><td>149</td></tr>",
                            "<tr><td>95</td><td>4</td><td>150</td></tr>",
                            "<tr><td>69</td><td>4</td><td>151</td></tr>",
                            "<tr><td>84</td><td>4</td><td>152</td></tr>",
                            "<tr><td>85</td><td>4</td><td>153</td></tr>",
                            "<tr><td>90</td><td>4</td><td>154</td></tr>",
                            "<tr><td>91</td><td>4</td><td>155</td></tr>",
                            "<tr><td>114</td><td>4</td><td>156</td></tr>",
                            "<tr><td>100</td><td>4</td><td>157</td></tr>",
                            "<tr><td>103</td><td>4</td><td>158</td></tr>",
                            "<tr><td>104</td><td>4</td><td>159</td></tr>",
                            "<tr><td>101</td><td>3</td><td>160</td></tr>",
                            "<tr><td>135</td><td>3</td><td>161</td></tr>",
                            "<tr><td>136</td><td>3</td><td>162</td></tr>",
                            "<tr><td>158</td><td>3</td><td>163</td></tr>",
                            "<tr><td>151</td><td>3</td><td>164</td></tr>",
                            "<tr><td>68</td><td>3</td><td>165</td></tr>",
                            "<tr><td>71</td><td>3</td><td>166</td></tr>",
                            "<tr><td>75</td><td>3</td><td>167</td></tr>",
                            "<tr><td>76</td><td>3</td><td>168</td></tr>",
                            "<tr><td>37</td><td>3</td><td>169</td></tr>",
                            "<tr><td>23</td><td>3</td><td>170</td></tr>",
                            "<tr><td>24</td><td>3</td><td>171</td></tr>",
                            "<tr><td>30</td><td>3</td><td>172</td></tr>",
                            "<tr><td>31</td><td>3</td><td>173</td></tr>",
                            "<tr><td>14</td><td>3</td><td>174</td></tr>",
                            "<tr><td>179</td><td>3</td><td>175</td></tr>",
                            "<tr><td>180</td><td>3</td><td>176</td></tr>",
                            "<tr><td>162</td><td>3</td><td>177</td></tr>",
                            "<tr><td>166</td><td>3</td><td>178</td></tr>",
                            "<tr><td>167</td><td>2</td><td>179</td></tr>",
                            "<tr><td>192</td><td>2</td><td>180</td></tr>",
                            "<tr><td>25</td><td>2</td><td>181</td></tr>",
                            "<tr><td>26</td><td>2</td><td>182</td></tr>",
                            "<tr><td>41</td><td>2</td><td>183</td></tr>",
                            "<tr><td>56</td><td>2</td><td>184</td></tr>",
                            "<tr><td>47</td><td>2</td><td>185</td></tr>",
                            "<tr><td>53</td><td>2</td><td>186</td></tr>",
                            "<tr><td>142</td><td>2</td><td>187</td></tr>",
                            "<tr><td>102</td><td>2</td><td>188</td></tr>",
                            "<tr><td>105</td><td>2</td><td>189</td></tr>",
                            "<tr><td>108</td><td>2</td><td>190</td></tr>",
                            "<tr><td>116</td><td>2</td><td>191</td></tr>",
                            "<tr><td>147</td><td>1</td><td>192</td></tr>",
                            "<tr><td>125</td><td>1</td><td>193</td></tr>",
                            "<tr><td>60</td><td>1</td><td>194</td></tr>",
                            "<tr><td>65</td><td>1</td><td>195</td></tr>",
                            "<tr><td>32</td><td>1</td><td>196</td></tr>",
                            "<tr><td>194</td><td>1</td><td>197</td></tr>",
                            "</table>"
                        ]
                    }
                }
            ],
            "execution_count": 29
        },
        {
            "cell_type": "code",
            "source": [
                "SELECT SZALLAS_ID, \r\n",
                "       SZALLAS_NEV, \r\n",
                "       csillagok_szama,\r\n",
                "       IIF(CSILLAGOK_SZAMA>=3,'Igen','Nem') AS 'Legalább 3 csillagos_e'\r\n",
                "FROM Szallashely\r\n",
                "WHERE SZALLAS_ID NOT IN\r\n",
                "(\r\n",
                "    SELECT SZALLAS_FK\r\n",
                "    FROM Szoba\r\n",
                "    WHERE FEROHELY <> 3\r\n",
                ")"
            ],
            "metadata": {
                "azdata_cell_guid": "6f2d5944-4bb2-4188-99d0-2a468b4f24e0",
                "language": "sql"
            },
            "outputs": [
                {
                    "output_type": "display_data",
                    "data": {
                        "text/html": "(1 row affected)"
                    },
                    "metadata": {}
                },
                {
                    "output_type": "display_data",
                    "data": {
                        "text/html": "Total execution time: 00:00:00.010"
                    },
                    "metadata": {}
                },
                {
                    "output_type": "execute_result",
                    "metadata": {},
                    "execution_count": 24,
                    "data": {
                        "application/vnd.dataresource+json": {
                            "schema": {
                                "fields": [
                                    {
                                        "name": "SZALLAS_ID"
                                    },
                                    {
                                        "name": "SZALLAS_NEV"
                                    },
                                    {
                                        "name": "csillagok_szama"
                                    },
                                    {
                                        "name": "Legalább 3 csillagos_e"
                                    }
                                ]
                            },
                            "data": [
                                {
                                    "SZALLAS_ID": "21",
                                    "SZALLAS_NEV": "Müller Vendégház",
                                    "csillagok_szama": "0",
                                    "Legalább 3 csillagos_e": "Nem"
                                }
                            ]
                        },
                        "text/html": [
                            "<table>",
                            "<tr><th>SZALLAS_ID</th><th>SZALLAS_NEV</th><th>csillagok_szama</th><th>Legalább 3 csillagos_e</th></tr>",
                            "<tr><td>21</td><td>Müller Vendégház</td><td>0</td><td>Nem</td></tr>",
                            "</table>"
                        ]
                    }
                }
            ],
            "execution_count": 24
        }
    ]
}